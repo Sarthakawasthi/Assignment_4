{
 "cells": [
  {
   "cell_type": "code",
   "execution_count": 3,
   "metadata": {},
   "outputs": [
    {
     "name": "stdout",
     "output_type": "stream",
     "text": [
      "a=2\n",
      "b=2\n",
      "c=2\n",
      "area : 1.7320508075688772\n"
     ]
    }
   ],
   "source": [
    "class sarthak:\n",
    "    def __init__(self,a,b,c):\n",
    "        self.a = float(a)\n",
    "        self.b = float(b)\n",
    "        self.c = float(c)\n",
    "a= int(input(\"a=\"))\n",
    "b= int(input(\"b=\"))\n",
    "c= int(input(\"c=\"))\n",
    "\n",
    "class awasthi(sarthak):\n",
    "    def __init__(self,a,b,c):\n",
    "        super().__init__(a,b,c)\n",
    "\n",
    "    def get_area_triangle(self):\n",
    "        s = (a + b + c) / 2\n",
    "        return (s*(s-a)*(s-b)*(s-c)) ** 0.5        \n",
    "\n",
    "t = awasthi(a,b,c)\n",
    "print(\"area : {}\".format(t.get_area_triangle()))\n"
   ]
  },
  {
   "cell_type": "code",
   "execution_count": null,
   "metadata": {},
   "outputs": [],
   "source": [
    "#question1.2\n",
    "def filter_long_words(words, number):\n",
    "\n",
    "    new_list = []\n",
    "\n",
    "    for i in range(len(words)):\n",
    "        if len(words[i]) > number:\n",
    "            new_list.append(words[i])\n",
    "\n",
    "    print (new_list)\n",
    "\n",
    "list1 = input(\"take input: \")\n",
    "\n",
    "list = list1.split(\",\")\n",
    "\n",
    "def main():\n",
    "    global list, int1\n",
    "    integer = input()\n",
    "    int1 = int(integer)\n",
    "    listing(list, int1)\n",
    "\n",
    "main()"
   ]
  },
  {
   "cell_type": "code",
   "execution_count": 8,
   "metadata": {},
   "outputs": [
    {
     "name": "stdout",
     "output_type": "stream",
     "text": [
      "enter list of wordsss,jjj,kkj\n",
      "[2, 3, 3]\n"
     ]
    }
   ],
   "source": [
    "#question2.1\n",
    "def main():\n",
    "    s=[]\n",
    "    s = input(\"enter list of words\")\n",
    "    map(len, s.split())\n",
    "    k=list(map(len, s.split(\",\")))\n",
    "    print(k)\n",
    "main()    "
   ]
  },
  {
   "cell_type": "code",
   "execution_count": 17,
   "metadata": {},
   "outputs": [
    {
     "name": "stdout",
     "output_type": "stream",
     "text": [
      "enter a characterw\n"
     ]
    },
    {
     "data": {
      "text/plain": [
       "False"
      ]
     },
     "execution_count": 17,
     "metadata": {},
     "output_type": "execute_result"
    }
   ],
   "source": [
    "#question2.2\n",
    "def vowel(c):\n",
    "    if (c=='A')|(c=='E')|(c=='I')|(c=='O')|(c=='U')|(c=='a')|(c==\"e\")|(c==\"i\")|(c==\"o\")|(c==\"u\"):\n",
    "        \n",
    "        return True\n",
    "    else:\n",
    "        return False\n",
    "\n",
    "s=input(\"enter a character\")\n",
    "vowel(s)\n",
    "\n",
    "    "
   ]
  }
 ],
 "metadata": {
  "kernelspec": {
   "display_name": "Python 3",
   "language": "python",
   "name": "python3"
  },
  "language_info": {
   "codemirror_mode": {
    "name": "ipython",
    "version": 3
   },
   "file_extension": ".py",
   "mimetype": "text/x-python",
   "name": "python",
   "nbconvert_exporter": "python",
   "pygments_lexer": "ipython3",
   "version": "3.7.6"
  }
 },
 "nbformat": 4,
 "nbformat_minor": 4
}
